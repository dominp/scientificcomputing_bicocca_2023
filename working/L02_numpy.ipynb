{
 "cells": [
  {
   "cell_type": "code",
   "execution_count": 2,
   "metadata": {},
   "outputs": [],
   "source": [
    "import numpy as np\n",
    "import time"
   ]
  },
  {
   "cell_type": "markdown",
   "metadata": {},
   "source": [
    "## Q2: Histrograms\n",
    "\n",
    "Here we will read in columns of numbers from a file and create a histogram, using NumPy routines.  Make sure you have the data file\n",
    "\"`sample.txt`\" in the same directory as this notebook. You download it from  https://raw.githubusercontent.com/sbu-python-summer/python-tutorial/master/day-3/sample.txt (and use python to download a file!)\n",
    "\n",
    "  * Use `np.loadtxt()` to read this file in.  \n",
    "\n",
    "  * Next, use `np.histogram()` to create a histogram array.  The output returns both the count and an array of edges.\n",
    "  \n",
    "  * Finally, loop over the bins and print out the bin center (averaging the left and right edges of the bin) and the count for that bin."
   ]
  },
  {
   "cell_type": "code",
   "execution_count": 2,
   "metadata": {},
   "outputs": [
    {
     "data": {
      "text/plain": [
       "('q2.txt', <http.client.HTTPMessage at 0x7f3bd0355f00>)"
      ]
     },
     "execution_count": 2,
     "metadata": {},
     "output_type": "execute_result"
    }
   ],
   "source": [
    "import urllib.request\n",
    "\n",
    "urllib.request.urlretrieve(\n",
    "    \"https://raw.githubusercontent.com/sbu-python-summer/python-tutorial/master/day-3/sample.txt\", \"q2.txt\"\n",
    ")"
   ]
  },
  {
   "cell_type": "code",
   "execution_count": 13,
   "metadata": {},
   "outputs": [
    {
     "name": "stdout",
     "output_type": "stream",
     "text": [
      "-24.11 6\n",
      "-11.15 23\n",
      "1.81 52\n",
      "14.77 37\n",
      "27.73 16\n",
      "40.69 14\n",
      "53.64 13\n",
      "66.60 13\n",
      "79.56 13\n",
      "92.52 13\n"
     ]
    }
   ],
   "source": [
    "data = np.loadtxt(\"q2.txt\", unpack=True)\n",
    "vals, edges = np.histogram(data)\n",
    "centers = (edges[:-1] + edges[1:]) / 2\n",
    "for center, value in zip(centers, vals):\n",
    "    print(f\"{center:.2f} {value}\")"
   ]
  },
  {
   "cell_type": "markdown",
   "metadata": {},
   "source": [
    "## Q3: Are you faster than numpy?\n",
    "\n",
    "Numpy of course has a standard deviation function, `np.std()`, but here we'll write our own that works on a 1-d array (vector).  The standard\n",
    "deviation is a measure of the \"width\" of the distribution of numbers\n",
    "in the vector.\n",
    "\n",
    "Given an array, $a$, and an average $\\bar{a}$, the standard deviation\n",
    "is:\n",
    "$$\n",
    "\\sigma = \\left [ \\frac{1}{N} \\sum_{i=1}^N (a_i - \\bar{a})^2 \\right ]^{1/2}\n",
    "$$\n",
    "\n",
    "Write a function to calculate the standard deviation for an input array, `a`:\n",
    "\n",
    "  * First compute the average of the elements in `a` to define $\\bar{a}$\n",
    "  * Next compute the sum over the squares of $a - \\bar{a}$\n",
    "  * Then divide the sum by the number of elements in the array\n",
    "  * Finally take the square root (you can use `np.sqrt()`)\n",
    "  \n",
    "Test your function on a random array, and compare to the built-in `np.std()`. Check the runtime as well."
   ]
  },
  {
   "cell_type": "code",
   "execution_count": 14,
   "metadata": {},
   "outputs": [],
   "source": [
    "def f_std(a):\n",
    "    s = 0\n",
    "    for x in a:\n",
    "        s += x\n",
    "    mean = s / len(a)\n",
    "    ssq = 0\n",
    "    for x in a:\n",
    "        ssq += (x - mean) ** 2\n",
    "    return np.sqrt(ssq / len(a))"
   ]
  },
  {
   "cell_type": "code",
   "execution_count": 19,
   "metadata": {},
   "outputs": [
    {
     "name": "stdout",
     "output_type": "stream",
     "text": [
      "NP: 2.726123094558716, python: 244.11608934402466\n"
     ]
    }
   ],
   "source": [
    "arr = np.random.rand(10**9)\n",
    "t0 = time.time()\n",
    "_ = np.std(arr)\n",
    "t1 = time.time()\n",
    "_ = f_std(arr)\n",
    "t2 = time.time()\n",
    "print(f\"NP: {t1-t0}, python: {t2-t1}\")"
   ]
  },
  {
   "cell_type": "markdown",
   "metadata": {},
   "source": [
    "## Q6: Conway's Game of Life\n",
    "\n",
    "**Exercise**: Code up Conway's Game of Life using numpy \n",
    "\n",
    "The Game of Life is a cellular automaton devised by mathematician John Horton Conway in 1970. It is a zero-player game, meaning that its evolution is determined by its initial state, requiring no further input. One interacts with the Game of Life by creating an initial configuration and observing how it evolves. It is Turing complete and can simulate a universal constructor or any other Turing machine.\n",
    "\n",
    "https://en.wikipedia.org/wiki/Conway%27s_Game_of_Life\n",
    "\n",
    "The Game of Life is *really* (really, really) cool. There are just four extremely simple rules, and these result in an immense richness of behaviour and complexity.\n",
    "\n",
    "https://www.youtube.com/watch?v=C2vgICfQawE&t=221s&ab_channel=RationalAnimations\n",
    "\n",
    "https://www.youtube.com/watch?v=jvSp6VHt_Pc&ab_channel=TheDevDoctor\n",
    "\n",
    "Here some web apps to play:\n",
    "\n",
    "https://conwaylife.com/\n",
    "\n",
    "https://playgameoflife.com/\n",
    "\n",
    "Some computational hints:\n",
    "\n",
    "https://blog.datawrapper.de/game-of-life/\n",
    "\n",
    "For instance, here is a Game-of-Life structure that sends a message at fixed intervals (that little spaceship leaving toward the bottom right)\n",
    "\n",
    "![](https://blog.datawrapper.de/wp-content/uploads/2021/06/game-of-life-loop-cropped.gif)\n"
   ]
  },
  {
   "cell_type": "code",
   "execution_count": 171,
   "metadata": {},
   "outputs": [],
   "source": [
    "def game_of_life(grid, N):\n",
    "    \"\"\"\n",
    "    Runs the game of life for N iterations on the given grid. The grid can be a tuple of (rows, cols) in which case a random grid is generated.\n",
    "    \"\"\"\n",
    "    if type(grid) == tuple and len(grid) == 2:\n",
    "        grid = np.random.choice([1, 0], grid[0] * grid[1], p=[0.1, 0.9]).reshape(*grid)\n",
    "    neighbor_filter = np.array([[1, 1, 1], [1, 0, 1], [1, 1, 1]])\n",
    "    grids = [grid]\n",
    "    for i in range(N):\n",
    "        extended_grid = np.pad(grid, 1, mode=\"constant\")\n",
    "        neighbors = np.zeros_like(grid)\n",
    "        for row in range(grid.shape[0]):\n",
    "            for col in range(grid.shape[1]):\n",
    "                neighbors[row, col] = np.sum(extended_grid[row : row + 3, col : col + 3] * neighbor_filter)\n",
    "        newGrid = np.copy(grid)\n",
    "        newGrid = np.where((grid == 1) & ((neighbors < 2) | (neighbors > 3)), 0, newGrid)\n",
    "        newGrid = np.where((grid == 0) & (neighbors == 3), 1, newGrid)\n",
    "        # if any(np.array_equal(newGrid, arr) for arr in grids):\n",
    "        #     print(\"Reached a steady state at iteration\", i + 1)\n",
    "        # break\n",
    "        grids.append(newGrid)\n",
    "        grid = newGrid\n",
    "    return grids"
   ]
  },
  {
   "cell_type": "code",
   "execution_count": 166,
   "metadata": {},
   "outputs": [
    {
     "name": "stdout",
     "output_type": "stream",
     "text": [
      "CPU times: user 1.16 s, sys: 69 µs, total: 1.16 s\n",
      "Wall time: 1.16 s\n"
     ]
    }
   ],
   "source": [
    "%%time\n",
    "dims = (50, 50)\n",
    "grid = np.random.choice([1, 0], dims[0] * dims[1], p=[0.1, 0.9]).reshape(*dims)\n",
    "grids = game_of_life(grid, 100)"
   ]
  }
 ],
 "metadata": {
  "kernelspec": {
   "display_name": "Python 3 (ipykernel)",
   "language": "python",
   "name": "python3"
  }
 },
 "nbformat": 4,
 "nbformat_minor": 2
}
