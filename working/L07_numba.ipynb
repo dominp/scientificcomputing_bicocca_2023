{
 "cells": [
  {
   "cell_type": "code",
   "execution_count": 1,
   "metadata": {},
   "outputs": [
    {
     "name": "stderr",
     "output_type": "stream",
     "text": [
      "/zeus/dominik/.local/lib/python3.10/site-packages/matplotlib/projections/__init__.py:63: UserWarning: Unable to import Axes3D. This may be due to multiple versions of Matplotlib being installed (e.g. as a system package and as a pip package). As a result, the 3D projection is not available.\n",
      "  warnings.warn(\"Unable to import Axes3D. This may be due to multiple versions of \"\n"
     ]
    }
   ],
   "source": [
    "import numpy as np\n",
    "import matplotlib.pyplot as plt\n",
    "import multiprocessing, pathos.multiprocessing\n",
    "from tqdm.notebook import tqdm\n",
    "from numba import njit\n",
    "from numba import prange\n",
    "import os\n",
    "import time"
   ]
  },
  {
   "cell_type": "markdown",
   "metadata": {},
   "source": [
    "## Q1: The stock market\n",
    "\n",
    "(This is about numba)\n",
    "\n",
    "A Markov Chain is defined as a sequence of random variables where a parameter depends *only* on the preceding value. This is a crucial tool in statistics, widely used in science and beyond (economics for instance).\n",
    "\n",
    "For instance, the stock market has phases of growing prices (bull), dreasing prices (bear) and recession. This would be a Markov Chain model:\n",
    "\n",
    "![](https://upload.wikimedia.org/wikipedia/commons/thumb/9/95/Finance_Markov_chain_example_state_space.svg/400px-Finance_Markov_chain_example_state_space.svg.png)\n",
    "\n",
    "where the numbers on the arrows indicate the probabily that the next day will be in a given state.\n",
    "\n",
    "Your task is to simulate the stock market according to this rule. Start from a random state and simulate many many  iterations. If your code is right, the fraction of days in each state should converge. \n",
    "\n",
    "Implement a pure-python version and a numba version, and compare speeds. \n"
   ]
  },
  {
   "cell_type": "code",
   "execution_count": 2,
   "metadata": {},
   "outputs": [],
   "source": [
    "import random\n",
    "\n",
    "\n",
    "def market(state, no):\n",
    "    states = [\"bull\", \"bear\", \"recession\"]\n",
    "    pbty = {\"bull\": [0.9, 0.075, 0.025], \"bear\": [0.15, 0.8, 0.05], \"recession\": [0.25, 0.25, 0.5]}\n",
    "    history = {\"bull\": 0, \"bear\": 0, \"recession\": 0}\n",
    "    for n in range(no):\n",
    "        state = random.choices(states, weights=pbty[state])[0]\n",
    "        history[state] += 1\n",
    "    return history\n",
    "\n",
    "\n",
    "@njit\n",
    "def market_nb(state, no):\n",
    "    # [\"bull\", \"bear\", \"recession\"] -> [0, 1, 2]\n",
    "    # pbty = ([0.9, 0.075, 0.025], [0.15, 0.8, 0.05], [0.25, 0.25, 0.5])\n",
    "    pbty = [[0.9, 0.975, 1.0], [0.15, 0.95, 1.0], [0.25, 0.5, 1.0]]  # cumulative sum of pbty\n",
    "    history = np.zeros(3, dtype=np.int64)\n",
    "    for n in range(no):\n",
    "        state = np.searchsorted(pbty[0], np.random.rand())\n",
    "        history[state] += 1\n",
    "    return history"
   ]
  },
  {
   "cell_type": "code",
   "execution_count": 5,
   "metadata": {},
   "outputs": [
    {
     "name": "stdout",
     "output_type": "stream",
     "text": [
      "10\n",
      "37\n",
      "138\n",
      "517\n",
      "1930\n",
      "7196\n",
      "26826\n",
      "100000\n",
      "372759\n",
      "1389495\n",
      "5179474\n",
      "19306977\n",
      "71968567\n",
      "268269579\n",
      "1000000000\n"
     ]
    }
   ],
   "source": [
    "iter = np.logspace(1, 9, 15)\n",
    "python_time = []\n",
    "numba_time = []\n",
    "for i in iter:\n",
    "    start = time.time()\n",
    "\n",
    "    market(np.random.choice([\"bull\", \"bear\", \"recession\"]), int(i))\n",
    "    end = time.time()\n",
    "    python_time.append(end - start)\n",
    "    start = time.time()\n",
    "    market_nb(np.random.randint(0, 3), int(i))\n",
    "    end = time.time()\n",
    "    numba_time.append(end - start)\n",
    "    print(int(i))"
   ]
  },
  {
   "cell_type": "code",
   "execution_count": 6,
   "metadata": {},
   "outputs": [
    {
     "data": {
      "image/png": "[encoded data removed]",
      "text/plain": [
       "<Figure size 432x288 with 1 Axes>"
      ]
     },
     "metadata": {
      "needs_background": "light"
     },
     "output_type": "display_data"
    },
    {
     "name": "stdout",
     "output_type": "stream",
     "text": [
      "plot_times\n"
     ]
    }
   ],
   "source": [
    "@myplot  # see Q2\n",
    "def plot_times(ax):\n",
    "    ax.plot(iter, python_time, label=\"Python\")\n",
    "    ax.plot(iter, numba_time, label=\"Numba\")\n",
    "    ax.set_xscale(\"log\")\n",
    "    ax.set_xlabel(\"Number of iterations\")\n",
    "    ax.set_ylabel(\"Time (s)\")\n",
    "\n",
    "\n",
    "plot_times()"
   ]
  },
  {
   "cell_type": "markdown",
   "metadata": {},
   "source": [
    "## Q2: Consistent plotting\n",
    "\n",
    "(This is about python's dectorators)\n",
    "\n",
    "Write a decorator for the plots of all your papers. \n",
    "\n",
    "- Remember a decorator takes a function. \n",
    "- This function in turn should return a matplotlib figure object.\n",
    "- Before the function is called, the decorator should intialize a matplotlib figure with the options that you like the most (fontsize, ticks, etc etc)\n",
    "- After the figure it's done, the decorator should save it to pdf.\n",
    "\n",
    "This is a great hack for your papers! You do this once and for all, and all plots in your paper will be beautifill, all with the same style/fontsize/etc. All you'll need to do is adding `@myplot` to the relevant plotting functions. \n",
    "    \n",
    "The decorator that I use for my papers is available in my python module [skywalker](https://github.com/dgerosa/skywalker).  "
   ]
  },
  {
   "cell_type": "code",
   "execution_count": 16,
   "metadata": {},
   "outputs": [],
   "source": [
    "from functools import wraps\n",
    "import matplotlib.pyplot as plt\n",
    "\n",
    "\n",
    "def myplot(func):\n",
    "    @wraps(func)\n",
    "    def wrapper(*args, **kwargs):\n",
    "        plt.rcParams.update(\n",
    "            {\n",
    "                \"figure.figsize\": (3.5, 2.625),\n",
    "                \"figure.dpi\": 300,\n",
    "                \"xtick.direction\": \"in\",\n",
    "                \"ytick.direction\": \"in\",\n",
    "                \"xtick.top\": True,\n",
    "                \"ytick.right\": True,\n",
    "                \"xtick.major.size\": 2.8,\n",
    "                \"xtick.major.width\": 0.5,\n",
    "                \"xtick.minor.size\": 1.5,\n",
    "                \"xtick.minor.width\": 0.5,\n",
    "                \"ytick.major.size\": 2.8,\n",
    "                \"ytick.major.width\": 0.5,\n",
    "                \"ytick.minor.size\": 1.5,\n",
    "                \"ytick.minor.width\": 0.5,\n",
    "                \"savefig.bbox\": \"tight\",\n",
    "                \"savefig.pad_inches\": 0.01,\n",
    "            }\n",
    "        )\n",
    "        fig, ax = plt.subplots()\n",
    "        func(ax, *args, **kwargs)\n",
    "\n",
    "        # plt.savefig(f\"{func.__name__}_plot.pdf\")\n",
    "        plt.show()\n",
    "        plt.close()\n",
    "        print(func.__name__)\n",
    "\n",
    "    return wrapper"
   ]
  },
  {
   "cell_type": "markdown",
   "metadata": {},
   "source": [
    "## Q3: Scaling\n",
    "\n",
    "(This is about multiprocessing)\n",
    "\n",
    "The [\"scaling\"](https://hpc-wiki.info/hpc/Scaling) of a code refers to its performance of as a function of the number of cores adopted. \n",
    "\n",
    "- Define a computationally intensive task (something like an operation on two giant arrays with >1e7 numbers or, even better!, pick somethinbg from your research). \n",
    "- Make sure it's embarassingly parallel. \n",
    "- Implement a parallelization strategy using multiprocessing. \n",
    "- Plot the time the code takes as a function of the number of cores.\n",
    "- Figure out the number of cores in your CPU and make sure the plot extends both below and above this number.\n",
    "- Interpret the resulting features. \n",
    "- A perfect scaling result in straight line (linear dependency). How perfect is your scaling?"
   ]
  },
  {
   "cell_type": "markdown",
   "metadata": {},
   "source": [
    "### Important\n",
    "Numpy has some inner, semi-automatic parallelization functionalities. Some, but not all, numpy functions detect the number of CPUs in your machine and make good use of them. That's great for most applications, but when performing a scaling study you want to control the parallelization yourself and disable what's done by numpy's. The following forces numpy to use a single core.  "
   ]
  },
  {
   "cell_type": "code",
   "execution_count": 2,
   "metadata": {},
   "outputs": [
    {
     "name": "stdout",
     "output_type": "stream",
     "text": [
      "openblas64__info:\n",
      "    libraries = ['openblas64_', 'openblas64_']\n",
      "    library_dirs = ['/usr/local/lib']\n",
      "    language = c\n",
      "    define_macros = [('HAVE_CBLAS', None), ('BLAS_SYMBOL_SUFFIX', '64_'), ('HAVE_BLAS_ILP64', None)]\n",
      "    runtime_library_dirs = ['/usr/local/lib']\n",
      "blas_ilp64_opt_info:\n",
      "    libraries = ['openblas64_', 'openblas64_']\n",
      "    library_dirs = ['/usr/local/lib']\n",
      "    language = c\n",
      "    define_macros = [('HAVE_CBLAS', None), ('BLAS_SYMBOL_SUFFIX', '64_'), ('HAVE_BLAS_ILP64', None)]\n",
      "    runtime_library_dirs = ['/usr/local/lib']\n",
      "openblas64__lapack_info:\n",
      "    libraries = ['openblas64_', 'openblas64_']\n",
      "    library_dirs = ['/usr/local/lib']\n",
      "    language = c\n",
      "    define_macros = [('HAVE_CBLAS', None), ('BLAS_SYMBOL_SUFFIX', '64_'), ('HAVE_BLAS_ILP64', None), ('HAVE_LAPACKE', None)]\n",
      "    runtime_library_dirs = ['/usr/local/lib']\n",
      "lapack_ilp64_opt_info:\n",
      "    libraries = ['openblas64_', 'openblas64_']\n",
      "    library_dirs = ['/usr/local/lib']\n",
      "    language = c\n",
      "    define_macros = [('HAVE_CBLAS', None), ('BLAS_SYMBOL_SUFFIX', '64_'), ('HAVE_BLAS_ILP64', None), ('HAVE_LAPACKE', None)]\n",
      "    runtime_library_dirs = ['/usr/local/lib']\n",
      "Supported SIMD extensions in this NumPy install:\n",
      "    baseline = SSE,SSE2,SSE3\n",
      "    found = SSSE3,SSE41,POPCNT,SSE42,AVX,F16C,FMA3,AVX2,AVX512F,AVX512CD,AVX512_SKX,AVX512_CLX,AVX512_CNL,AVX512_ICL\n",
      "    not found = AVX512_KNL,AVX512_KNM\n"
     ]
    }
   ],
   "source": [
    "import numpy as np\n",
    "\n",
    "np.__config__.show()\n",
    "import os\n",
    "\n",
    "os.environ[\"OPENBLAS_NUM_THREADS\"] = \"1\"\n",
    "os.environ[\"MKL_NUM_THREADS\"] = \"1\""
   ]
  },
  {
   "cell_type": "code",
   "execution_count": 8,
   "metadata": {},
   "outputs": [
    {
     "data": {
      "text/plain": [
       "16"
      ]
     },
     "execution_count": 8,
     "metadata": {},
     "output_type": "execute_result"
    }
   ],
   "source": [
    "multiprocessing.cpu_count()"
   ]
  },
  {
   "cell_type": "code",
   "execution_count": 9,
   "metadata": {},
   "outputs": [],
   "source": [
    "def some_function(arg):\n",
    "    val1, val2 = arg\n",
    "    result = 0\n",
    "    for i in range(int(1e4)):\n",
    "        result += (val1**2 + i) + (val2**2 + i)\n",
    "    return result\n",
    "\n",
    "\n",
    "arr1 = np.random.rand(int(5e5))\n",
    "arr2 = np.random.rand(int(5e5))\n",
    "args = list(zip(arr1, arr2))"
   ]
  },
  {
   "cell_type": "code",
   "execution_count": 7,
   "metadata": {},
   "outputs": [],
   "source": [
    "result = []\n",
    "for arg in args:\n",
    "    result.append(some_function(arg))"
   ]
  },
  {
   "cell_type": "code",
   "execution_count": 10,
   "metadata": {},
   "outputs": [
    {
     "name": "stdout",
     "output_type": "stream",
     "text": [
      "18 429.7242739200592\n",
      "17 432.6820385456085\n",
      "16 434.46517062187195\n",
      "15 438.1324326992035\n",
      "14 438.1459014415741\n",
      "13 430.4384868144989\n",
      "12 431.2446463108063\n",
      "11 423.5031723976135\n",
      "10 417.7436189651489\n",
      "9 403.2594108581543\n",
      "8 397.9846179485321\n",
      "7 398.00626611709595\n",
      "6 391.67246294021606\n",
      "5 385.128071308136\n",
      "4 436.65623593330383\n",
      "3 579.1896204948425\n",
      "2 906.8097712993622\n",
      "1 1862.2822229862213\n"
     ]
    }
   ],
   "source": [
    "exec_time = []\n",
    "cpus = np.arange(1, 19)[::-1]\n",
    "for cpu in cpus:\n",
    "    start = time.time()\n",
    "    pool = pathos.multiprocessing.ProcessPool(cpu).imap\n",
    "    result = list(pool(some_function, args))\n",
    "    exec_time.append(time.time() - start)\n",
    "    print(cpu, exec_time[-1])"
   ]
  },
  {
   "cell_type": "code",
   "execution_count": 18,
   "metadata": {},
   "outputs": [
    {
     "data": {
      "image/png": "[encoded data removed]",
      "text/plain": [
       "<Figure size 1050x787.5 with 1 Axes>"
      ]
     },
     "metadata": {
      "needs_background": "light"
     },
     "output_type": "display_data"
    },
    {
     "name": "stdout",
     "output_type": "stream",
     "text": [
      "numba_plot\n"
     ]
    }
   ],
   "source": [
    "@myplot\n",
    "def numba_plot(ax):\n",
    "    ax.plot(cpus,exec_time)\n",
    "    ax.set_ylabel('Execution time (s)')\n",
    "    ax.set_xlabel('Number of cores')\n",
    "numba_plot()"
   ]
  }
 ],
 "metadata": {
  "kernelspec": {
   "display_name": "Python 3 (ipykernel)",
   "language": "python",
   "name": "python3"
  },
  "language_info": {
   "codemirror_mode": {
    "name": "ipython",
    "version": 3
   },
   "file_extension": ".py",
   "mimetype": "text/x-python",
   "name": "python",
   "nbconvert_exporter": "python",
   "pygments_lexer": "ipython3",
   "version": "3.10.12"
  }
 },
 "nbformat": 4,
 "nbformat_minor": 2
}
