{
 "cells": [
  {
   "cell_type": "markdown",
   "metadata": {},
   "source": [
    "## Q4: Word counts\n",
    "\n",
    "Here's some text (the Gettysburg Address).  Our goal is to count how many times each word repeats.  We'll do a brute force method first, and then we'll look a ways to do it more efficiently (and compactly).\n"
   ]
  },
  {
   "cell_type": "code",
   "execution_count": 1,
   "metadata": {},
   "outputs": [],
   "source": [
    "gettysburg_address = \"\"\"\n",
    "Four score and seven years ago our fathers brought forth on this continent, \n",
    "a new nation, conceived in Liberty, and dedicated to the proposition that \n",
    "all men are created equal.\n",
    "\n",
    "Now we are engaged in a great civil war, testing whether that nation, or \n",
    "any nation so conceived and so dedicated, can long endure. We are met on\n",
    "a great battle-field of that war. We have come to dedicate a portion of\n",
    "that field, as a final resting place for those who here gave their lives\n",
    "that that nation might live. It is altogether fitting and proper that we\n",
    "should do this.\n",
    "\n",
    "But, in a larger sense, we can not dedicate -- we can not consecrate -- we\n",
    "can not hallow -- this ground. The brave men, living and dead, who struggled\n",
    "here, have consecrated it, far above our poor power to add or detract.  The\n",
    "world will little note, nor long remember what we say here, but it can never\n",
    "forget what they did here. It is for us the living, rather, to be dedicated\n",
    "here to the unfinished work which they who fought here have thus far so nobly\n",
    "advanced. It is rather for us to be here dedicated to the great task remaining\n",
    "before us -- that from these honored dead we take increased devotion to that\n",
    "cause for which they gave the last full measure of devotion -- that we here\n",
    "highly resolve that these dead shall not have died in vain -- that this\n",
    "nation, under God, shall have a new birth of freedom -- and that government\n",
    "of the people, by the people, for the people, shall not perish from the earth.\n",
    "\"\"\""
   ]
  },
  {
   "cell_type": "markdown",
   "metadata": {},
   "source": [
    "### Your task\n",
    "\n",
    "Create a dictionary that uses the unique words as keys and has as a value the number of times that word appears.  \n",
    "\n",
    "Write a loop over the words in the string (using our split version) and do the following:\n",
    "  * remove any punctuation\n",
    "  * convert to lowercase\n",
    "  * test if the word is already a key in the dictionary (using the `in` operator)\n",
    "     - if the key exists, increment the word count for that key\n",
    "     - otherwise, add it to the dictionary with the appropriate count of `1`.\n",
    "\n",
    "At the end, print out the words and a count of how many times they appear"
   ]
  },
  {
   "cell_type": "code",
   "execution_count": 3,
   "metadata": {},
   "outputs": [
    {
     "name": "stdout",
     "output_type": "stream",
     "text": [
      "four 1\n",
      "score 1\n",
      "and 6\n",
      "seven 1\n",
      "years 1\n",
      "ago 1\n",
      "our 2\n",
      "fathers 1\n",
      "brought 1\n",
      "forth 1\n",
      "on 2\n",
      "this 4\n",
      "continent 1\n",
      "a 7\n",
      "new 2\n",
      "nation 5\n",
      "conceived 2\n",
      "in 4\n",
      "liberty 1\n",
      "dedicated 4\n",
      "to 8\n",
      "the 11\n",
      "proposition 1\n",
      "that 13\n",
      "all 1\n",
      "men 2\n",
      "are 3\n",
      "created 1\n",
      "equal 1\n",
      "now 1\n",
      "we 10\n",
      "engaged 1\n",
      "great 3\n",
      "civil 1\n",
      "war 2\n",
      "testing 1\n",
      "whether 1\n",
      "or 2\n",
      "any 1\n",
      "so 3\n",
      "can 5\n",
      "long 2\n",
      "endure 1\n",
      "met 1\n",
      "battle-field 1\n",
      "of 5\n",
      "have 5\n",
      "come 1\n",
      "dedicate 2\n",
      "portion 1\n",
      "field 1\n",
      "as 1\n",
      "final 1\n",
      "resting 1\n",
      "place 1\n",
      "for 5\n",
      "those 1\n",
      "who 3\n",
      "here 8\n",
      "gave 2\n",
      "their 1\n",
      "lives 1\n",
      "might 1\n",
      "live 1\n",
      "it 5\n",
      "is 3\n",
      "altogether 1\n",
      "fitting 1\n",
      "proper 1\n",
      "should 1\n",
      "do 1\n",
      "but 2\n",
      "larger 1\n",
      "sense 1\n",
      "not 5\n",
      "-- 7\n",
      "consecrate 1\n",
      "hallow 1\n",
      "ground 1\n",
      "brave 1\n",
      "living 2\n",
      "dead 3\n",
      "struggled 1\n",
      "consecrated 1\n",
      "far 2\n",
      "above 1\n",
      "poor 1\n",
      "power 1\n",
      "add 1\n",
      "detract 1\n",
      "world 1\n",
      "will 1\n",
      "little 1\n",
      "note 1\n",
      "nor 1\n",
      "remember 1\n",
      "what 2\n",
      "say 1\n",
      "never 1\n",
      "forget 1\n",
      "they 3\n",
      "did 1\n",
      "us 3\n",
      "rather 2\n",
      "be 2\n",
      "unfinished 1\n",
      "work 1\n",
      "which 2\n",
      "fought 1\n",
      "thus 1\n",
      "nobly 1\n",
      "advanced 1\n",
      "task 1\n",
      "remaining 1\n",
      "before 1\n",
      "from 2\n",
      "these 2\n",
      "honored 1\n",
      "take 1\n",
      "increased 1\n",
      "devotion 2\n",
      "cause 1\n",
      "last 1\n",
      "full 1\n",
      "measure 1\n",
      "highly 1\n",
      "resolve 1\n",
      "shall 3\n",
      "died 1\n",
      "vain 1\n",
      "under 1\n",
      "god 1\n",
      "birth 1\n",
      "freedom 1\n",
      "government 1\n",
      "people 3\n",
      "by 1\n",
      "perish 1\n",
      "earth 1\n"
     ]
    }
   ],
   "source": [
    "ga = gettysburg_address.split()\n",
    "dic_ga = {}\n",
    "for idx, x in enumerate(ga):\n",
    "    x_ed = x.lower().replace(\".\", \"\").replace(\",\", \"\")\n",
    "    ga[idx] = x_ed\n",
    "    if x_ed in dic_ga.keys():\n",
    "        dic_ga[x_ed] += 1\n",
    "    else:\n",
    "        dic_ga[x_ed] = 1\n",
    "for key, value in dic_ga.items():\n",
    "    print(key, value)"
   ]
  },
  {
   "cell_type": "markdown",
   "metadata": {},
   "source": [
    "## Q5: Foxes and dogs\n",
    "\n",
    "### Part 1. Short words\n",
    "\n",
    "Let's practice functions.  Here's a simple function that takes a string and returns a list of all the 4 letter words:"
   ]
  },
  {
   "cell_type": "code",
   "execution_count": 4,
   "metadata": {},
   "outputs": [],
   "source": [
    "def four_letter_words(message):\n",
    "    words = message.split()\n",
    "    four_letters = [w for w in words if len(w) == 4]\n",
    "    return four_letters"
   ]
  },
  {
   "cell_type": "code",
   "execution_count": 5,
   "metadata": {},
   "outputs": [
    {
     "name": "stdout",
     "output_type": "stream",
     "text": [
      "['over', 'lazy']\n"
     ]
    }
   ],
   "source": [
    "message = \"The quick brown fox jumps over the lazy dog\"\n",
    "print(four_letter_words(message))"
   ]
  },
  {
   "cell_type": "markdown",
   "metadata": {},
   "source": [
    "Write a version of this function that takes a second argument, n, that is the word length we want to search for"
   ]
  },
  {
   "cell_type": "code",
   "execution_count": 1,
   "metadata": {},
   "outputs": [],
   "source": [
    "def x_letter_words(message, x):\n",
    "    words = message.split()\n",
    "    x_letters = [w for w in words if len(w) == x]\n",
    "    return x_letters"
   ]
  },
  {
   "cell_type": "code",
   "execution_count": 6,
   "metadata": {},
   "outputs": [
    {
     "data": {
      "text/plain": [
       "['The', 'fox', 'the', 'dog']"
      ]
     },
     "execution_count": 6,
     "metadata": {},
     "output_type": "execute_result"
    }
   ],
   "source": [
    "x_letter_words(message, 3)"
   ]
  },
  {
   "cell_type": "markdown",
   "metadata": {},
   "source": [
    "### Part 2: Panagrams\n",
    "\n",
    "A _panagram_ is a sentence that includes all 26 letters of the alphabet, e.g., \"_The quick brown fox jumps over the lazy dog_.\"\n",
    "\n",
    "Write a function that takes as an argument a sentence and returns `True` or `False`, indicating whether the sentence is a panagram."
   ]
  },
  {
   "cell_type": "code",
   "execution_count": 14,
   "metadata": {},
   "outputs": [
    {
     "name": "stdout",
     "output_type": "stream",
     "text": [
      "abcdefghijklmnopqrstuvwxyz\n"
     ]
    }
   ],
   "source": [
    "import string\n",
    "\n",
    "print(string.ascii_lowercase)\n",
    "\n",
    "\n",
    "def panagram(message):\n",
    "    message = message.lower()\n",
    "    message = set(m for m in message if m in string.ascii_lowercase)\n",
    "    return len(message) == 26"
   ]
  },
  {
   "cell_type": "code",
   "execution_count": 16,
   "metadata": {},
   "outputs": [
    {
     "data": {
      "text/plain": [
       "True"
      ]
     },
     "execution_count": 16,
     "metadata": {},
     "output_type": "execute_result"
    }
   ],
   "source": [
    "panagram(\"_The quick brown fox jumps over the lazy dog_.\")"
   ]
  },
  {
   "cell_type": "markdown",
   "metadata": {},
   "source": [
    "## Q6: Cath errors"
   ]
  },
  {
   "cell_type": "markdown",
   "metadata": {},
   "source": [
    "We want to safely convert a string into a float, int, or leave it as a string, depending on its contents.  As we've already seen, python provides `float()` and `int()` functions for this:"
   ]
  },
  {
   "cell_type": "markdown",
   "metadata": {},
   "source": [
    "Notice that an int can be converted to a float, but if you convert a float to an int, you risk losing significant digits.  A string cannot be converted to either.\n",
    "\n",
    "### Your task\n",
    "\n",
    "Write a function, `convert_type(a)` that takes a string `a`, and converts it to a float if it is a number with a decimal point, an int if it is an integer, or leaves it as a string otherwise, and returns the result.  You'll want to use exceptions to prevent the code from aborting."
   ]
  },
  {
   "cell_type": "code",
   "execution_count": 8,
   "metadata": {},
   "outputs": [],
   "source": [
    "def convert_type(a):\n",
    "    try:\n",
    "        if \".\" in a:\n",
    "            return float(a)\n",
    "        else:\n",
    "            return int(a)\n",
    "    except:\n",
    "        return a"
   ]
  },
  {
   "cell_type": "code",
   "execution_count": 10,
   "metadata": {},
   "outputs": [
    {
     "data": {
      "text/plain": [
       "(float, int, str)"
      ]
     },
     "execution_count": 10,
     "metadata": {},
     "output_type": "execute_result"
    }
   ],
   "source": [
    "type(convert_type(\"1.2\")), type(convert_type(\"1\")), type(convert_type(\"a\"))"
   ]
  },
  {
   "cell_type": "markdown",
   "metadata": {},
   "source": [
    "## Q11: Rock-Paper-Scissors\n",
    "\n",
    "Implement a set of games of rock-paper-scissors against the computer.  \n",
    "\n",
    "  * Ask for input from the user (\"rock\", \"paper\", or \"scissors\") and the randomly select one of these for the computer's play.\n",
    "  * Announce who won.\n",
    "  * Keep playing until a player says that they no longer want to play.\n",
    "  * When all games are done, print out how many games were won by the player and by the computer "
   ]
  },
  {
   "cell_type": "code",
   "execution_count": 66,
   "metadata": {},
   "outputs": [],
   "source": [
    "import random\n",
    "from IPython.display import clear_output\n",
    "\n",
    "\n",
    "def RPS():\n",
    "    print(\"Welcome to Rock, Paper, Scissors!\")\n",
    "    print('You can type \"quit\" at any time to quit the game.')\n",
    "    log = {\"win\": 0, \"lose\": 0, \"tie\": 0}\n",
    "    rph = {\"r\": \"Rock\", \"p\": \"Paper\", \"s\": \"Scissors\"}\n",
    "    while True:\n",
    "        player_input = get_input()\n",
    "        if player_input == \"q\":\n",
    "            print(f\"You won {log['win']} times, lost {log['lose']} times, and tied {log['tie']} times.\")\n",
    "            print(\"Thanks for playing!\")\n",
    "            return\n",
    "        computer_input = random.choice([\"r\", \"p\", \"s\"])\n",
    "        result = get_result(player_input, computer_input)\n",
    "        print(f\"{rph[player_input]} vs {rph[computer_input]}: {result.capitalize()}\")\n",
    "        log[result] += 1\n",
    "\n",
    "\n",
    "def get_input():\n",
    "    while True:\n",
    "        player_input = input(\"Enter your move: \")\n",
    "        if len(player_input) != 0:\n",
    "            player_input = player_input.lower().strip()[0]\n",
    "        if player_input in [\"r\", \"p\", \"s\", \"q\"]:\n",
    "            clear_output()\n",
    "            return player_input\n",
    "        print(\"Invalid input. Please try again.\")\n",
    "\n",
    "\n",
    "def get_result(player_input, computer_input):\n",
    "    if player_input == computer_input:\n",
    "        return \"tie\"\n",
    "    elif player_input == \"r\" and computer_input == \"s\":\n",
    "        return \"win\"\n",
    "    elif player_input == \"p\" and computer_input == \"r\":\n",
    "        return \"win\"\n",
    "    elif player_input == \"s\" and computer_input == \"p\":\n",
    "        return \"win\"\n",
    "    else:\n",
    "        return \"lose\""
   ]
  },
  {
   "cell_type": "code",
   "execution_count": 67,
   "metadata": {},
   "outputs": [
    {
     "name": "stdout",
     "output_type": "stream",
     "text": [
      "You won 2 times, lost 3 times, and tied 2 times.\n",
      "Thanks for playing!\n"
     ]
    }
   ],
   "source": [
    "RPS()"
   ]
  },
  {
   "cell_type": "markdown",
   "metadata": {},
   "source": [
    "## Q12: Pascal's triangle\n",
    "\n",
    "Pascal's triangle is created such that each layer has 1 more element than the previous, with `1`s on the side and in the interior, the numbers are the sum of the two above it, e.g.,:\n",
    "```\n",
    "            1\n",
    "          1   1\n",
    "        1   2   1\n",
    "      1   3   3   1\n",
    "    1   4   6   4   1\n",
    "  1   5   10  10  5   1\n",
    "```\n",
    "\n",
    "1. Write a function to return the first `n` rows of Pascal's triangle.  The return should be a list of length `n`, with each element itself a list containing the numbers for that row.\n",
    "2. Write a function to print out Pascal's triangle with proper formatting, so the numbers in each row are centered between the ones in the row above"
   ]
  },
  {
   "cell_type": "code",
   "execution_count": 142,
   "metadata": {},
   "outputs": [],
   "source": [
    "def Ptr(n, print=False):\n",
    "    if type(n) != int or n <= 0:\n",
    "        raise TypeError(\"n must be an integer\")\n",
    "    arr = []\n",
    "    for idn in range(n):\n",
    "        if idn <= 1:  # first and second row, where only 1s are present\n",
    "            arr.append([1 for idnn in range(idn + 1)])\n",
    "            continue\n",
    "        row = [1]\n",
    "        for idnn in range(idn):\n",
    "            if idnn + 1 == idn:\n",
    "                row.append(1)\n",
    "                continue\n",
    "            row.append(arr[idn - 1][idnn] + arr[idn - 1][idnn + 1])\n",
    "        arr.append(row)\n",
    "    if print:\n",
    "        printPtr(arr)\n",
    "    return arr\n",
    "\n",
    "\n",
    "def printPtr(tr):\n",
    "    str_row = \".png\"\n",
    "    for el in tr[-1]:  # get the last row\n",
    "        str_row += str(el) + \"   \"\n",
    "    str_row = str_row[:-3]  # remove the last space\n",
    "    len_last = len(str_row)\n",
    "\n",
    "    for row in tr:\n",
    "        str_row = \"\"\n",
    "        for el in row:\n",
    "            str_row += str(el) + \"   \"\n",
    "        str_row = str_row[:-3]\n",
    "        print(str_row.center(len_last))"
   ]
  },
  {
   "cell_type": "code",
   "execution_count": 143,
   "metadata": {},
   "outputs": [
    {
     "name": "stdout",
     "output_type": "stream",
     "text": [
      "                                1                                \n",
      "                              1   1                              \n",
      "                            1   2   1                            \n",
      "                          1   3   3   1                          \n",
      "                        1   4   6   4   1                        \n",
      "                     1   5   10   10   5   1                     \n",
      "                   1   6   15   20   15   6   1                  \n",
      "                1   7   21   35   35   21   7   1                \n",
      "              1   8   28   56   70   56   28   8   1             \n",
      "          1   9   36   84   126   126   84   36   9   1          \n",
      "     1   10   45   120   210   252   210   120   45   10   1     \n",
      "  1   11   55   165   330   462   462   330   165   55   11   1  \n"
     ]
    }
   ],
   "source": [
    "tr = Ptr(12, print=True)"
   ]
  }
 ],
 "metadata": {
  "kernelspec": {
   "display_name": "Python 3 (ipykernel)",
   "language": "python",
   "name": "python3"
  },
  "language_info": {
   "codemirror_mode": {
    "name": "ipython",
    "version": 3
   },
   "file_extension": ".py",
   "mimetype": "text/x-python",
   "name": "python",
   "nbconvert_exporter": "python",
   "pygments_lexer": "ipython3",
   "version": "3.10.11"
  }
 },
 "nbformat": 4,
 "nbformat_minor": 2
}
